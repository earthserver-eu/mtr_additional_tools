{
 "cells": [
  {
   "cell_type": "markdown",
   "metadata": {},
   "source": [
    "<img style=\"float: right;\" src=\"./img/es2_logo_tiny.jpg\"></img>"
   ]
  },
  {
   "cell_type": "markdown",
   "metadata": {},
   "source": [
    "<h1 align=\"center\">Match Up Analysis</h1>\n",
    "<h2 align=\"center\">Example Generating regression plot of insitu data vs remote sensed</h2>\n",
    "<hr>"
   ]
  },
  {
   "cell_type": "markdown",
   "metadata": {},
   "source": [
    "### Background"
   ]
  },
  {
   "cell_type": "markdown",
   "metadata": {},
   "source": [
    "<p>Match up services are used by scientists to both validate remote sensed data as well as in-situ data. Match ups are generated from a file of latitude, longitude and date points. These can often hold several hundred points depending on the length and purpose of the cruise that generated the in-situ data. Current methods for finding EO data matchups normally take the form of custom written scripts that have to find the most appropriate file, and within it the most appropriate pixel. This can be quite lengthy operation even when you discount the time it takes to create the script.</p>\n",
    "<p>By providing a tool that can lookup values from the Ocean Colour CCI datasets we can provide a service to reduce the time needed to produce matched up datasets</p>"
   ]
  },
  {
   "cell_type": "markdown",
   "metadata": {},
   "source": [
    "### Addressed Community\n",
    "\n",
    " * Marine and Earth Science researcher\n",
    " \n",
    "### Benefits\n",
    "\n",
    "<p>Web Coverage Service 2.0 with its processing extension Web Coverage Processing Service (WCPS) offers an efficient retrieval of single points of data without the need to download extraneous data.</p>\n"
   ]
  },
  {
   "cell_type": "markdown",
   "metadata": {},
   "source": [
    "## Example: Produce a CSV file including the matchups from the OC-CCI daily dataset\n",
    "\n",
    "### Description\n",
    "\n",
    "<p> A researcher has a Comma Seperated Values (CSV) file that contains locations, dates and insitu chlorophyll measurements. They would like to query the OC-CCI Daily data to generate a corosponding CSV file that has teh EO data points added</p>"
   ]
  },
  {
   "cell_type": "markdown",
   "metadata": {},
   "source": [
    "<h3>Data required</h3>\n",
    "<div class=\"alert alert-info\">\n",
    "<ul type=\"square\">\n",
    "<li><a href=\"\">OC CCI Daily </a> -  Chlorophyll values matching the dates in CSV</li>\n",
    "<li><b>Format:</b> NETCDF</li>\n",
    "<li><b>Spatial resolution:</b> Lat/Lon grid, 4Km x 4Km</li>\n",
    "<li><b>Temporal resolution:</b> Daily</li>\n",
    "</ul>\n",
    "</div>"
   ]
  },
  {
   "cell_type": "markdown",
   "metadata": {},
   "source": [
    "<h3> Workflow - traditional </h3>\n",
    "<div class=\"alert alert-success\">\n",
    "<ul type=\"square\">\n",
    "<li>(1) Retrieve data that corresponds to your spatial and temporal area</li>\n",
    "<li>(2) Using a scripting language find which file is needed for  each data point</li>\n",
    "<li>(3) extract pixel value using scripting language</li>\n",
    "<li>(5) Plot the match up regression</li>\n",
    "</ul>\n",
    "</div>\n",
    "<p>This has the major overhead of needing to download a very large dataset just to get access to individual pixels. Depending on teh spatial and temporal spread of inistu data points teh data download could be several hundred Gb or even Tb's.</p>\n",
    "<p>Using WCPS combined with python to parse the results can remove this need and speed up teh match up process dramatically. The mechanism to do this is outline below.</p>"
   ]
  },
  {
   "cell_type": "markdown",
   "metadata": {
    "collapsed": true
   },
   "source": [
    "#### Load required libraries"
   ]
  },
  {
   "cell_type": "code",
   "execution_count": 5,
   "metadata": {
    "collapsed": true
   },
   "outputs": [],
   "source": [
    "from __future__ import print_function\n",
    "from datetime import datetime, timedelta\n",
    "\n",
    "import csv\n",
    "import requests"
   ]
  },
  {
   "cell_type": "markdown",
   "metadata": {},
   "source": [
    "#### Define our  WCPS query\n",
    "\n",
    "<p>We will use a single WCPS query multiple times, the query template will hold the coverage we want to extract from placeholders for Latitude, Lonitude and Date</p>"
   ]
  },
  {
   "cell_type": "code",
   "execution_count": 1,
   "metadata": {
    "collapsed": true
   },
   "outputs": [],
   "source": [
    "query_template = '''\n",
    "for c in (V3_daily_cci_all_insitu_match_test)\n",
    "return\n",
    "encode (\n",
    "   c[Lat({}), Long({}), ansi(\"{}\")], \"csv\"\n",
    ")'''"
   ]
  },
  {
   "cell_type": "code",
   "execution_count": 2,
   "metadata": {
    "collapsed": true
   },
   "outputs": [],
   "source": [
    "#### Define some helper functions"
   ]
  },
  {
   "cell_type": "code",
   "execution_count": 38,
   "metadata": {
    "collapsed": true
   },
   "outputs": [],
   "source": [
    "# This will simple create a new WCPS query using our template and given values\n",
    "def create_query(lat,lon,date):\n",
    "   \"\"\"simply tests POST wcps requets\"\"\"\n",
    "   query = query_template.format(lat,lon,date)\n",
    "   return query\n",
    "\n",
    "# This will send teh WCPS query off to teh web service and clean the result to a single value\n",
    "def run_query(lat,lon,date):\n",
    "   \"\"\"simply tests POST wcps requets\"\"\"\n",
    "   query = query_template.format(lat,lon,date)\n",
    "   payload = {'query' : query}\n",
    "   r = requests.post('http://earthserver.pml.ac.uk/rasdaman/ows/wcps'\\\n",
    "   , data=payload)\n",
    "   return r.text[1:-1]\n",
    "# This is just used to clean the dates from the CSV file and make them teh format required by the web service\n",
    "def clean_date(date):\n",
    "   \"\"\"simply return string in rasdaman approved format\"\"\"\n",
    "   return datetime.strptime(date, \"%d/%m/%Y\").strftime(\"%Y-%m-%d\")\n",
    "\n",
    "# Main bulk of work is here, we loop through CSV file and get value then add back to new CSV file\n",
    "# if the value is null we do not add it\n",
    "def loop_csv(csv_file):\n",
    "   \"\"\"loops through csv list and tests each line\"\"\"\n",
    "   with open(csv_file, \"r\") as csvfile:\n",
    "      with open('output_'+csv_file, 'w') as csv_out:\n",
    "         csvFile = csv.reader(csvfile, delimiter=',')\n",
    "         csv_writer = csv.writer(csv_out)\n",
    "         head = next(csvFile)\n",
    "         head.append(\"match_value\")\n",
    "         csv_writer.writerow(head)\n",
    "         x = 1\n",
    "         for row in csvFile:\n",
    "            d = clean_date(row[2].split(' ')[0])\n",
    "            #d = clean_date(row[2])\n",
    "            x = x + 1\n",
    "            #q = {'query' : create_query(row[0],row[1],d)}\n",
    "            #queries.append(q)\n",
    "            match_value = run_query(row[0],row[1],d)\n",
    "            \n",
    "            if(match_value != '9.96921e+36'):\n",
    "                #print(match_value)\n",
    "                row.append(match_value)\n",
    "                csv_writer.writerow(row)"
   ]
  },
  {
   "cell_type": "markdown",
   "metadata": {},
   "source": [
    "To run our match up now we just need to call the `loop csv` method with a path to a CSV file"
   ]
  },
  {
   "cell_type": "code",
   "execution_count": 39,
   "metadata": {
    "collapsed": false
   },
   "outputs": [],
   "source": [
    "loop_csv('cleaned_cci_db_4.csv')"
   ]
  },
  {
   "cell_type": "markdown",
   "metadata": {},
   "source": [
    "## Producing the match up regression plot\n",
    "<p>To do this we will use the data we generated in the previous step with a library called matplotlib.</p>"
   ]
  },
  {
   "cell_type": "code",
   "execution_count": 37,
   "metadata": {
    "collapsed": false
   },
   "outputs": [
    {
     "data": {
      "text/plain": [
       "[<matplotlib.lines.Line2D at 0x7f5b673a84d0>]"
      ]
     },
     "execution_count": 37,
     "metadata": {},
     "output_type": "execute_result"
    },
    {
     "data": {
      "image/png": "[encoded data removed]",
      "text/plain": [
       "<matplotlib.figure.Figure at 0x7f5b7a784c50>"
      ]
     },
     "metadata": {},
     "output_type": "display_data"
    }
   ],
   "source": [
    "%matplotlib inline\n",
    "import numpy as np\n",
    "import matplotlib.pyplot as plt\n",
    "\n",
    "# lists to hold data\n",
    "mine = []\n",
    "cci = []\n",
    "\n",
    "with open('output_cleaned_cci_db_4.csv', 'r') as datafile:\n",
    "    csvFile = csv.reader(datafile, delimiter=\",\")\n",
    "    _ = next(csvFile)\n",
    "    for row in csvFile:\n",
    "        mine.append(float(row[3]))\n",
    "        cci.append(float(row[4]))\n",
    "\n",
    "\n",
    "mine_np = np.array(mine)\n",
    "\n",
    "cci_np = np.array(cci)\n",
    "cci_np[cci_np == 9.96921e+36] = np.nan\n",
    "\n",
    "m, b = np.polyfit(mine_np,cci_np, 1)\n",
    "plt.plot(mine_np,cci_np, '.')\n",
    "plt.plot(mine_np, m*mine_np + b, '-')"
   ]
  },
  {
   "cell_type": "code",
   "execution_count": null,
   "metadata": {
    "collapsed": true
   },
   "outputs": [],
   "source": []
  },
  {
   "cell_type": "code",
   "execution_count": null,
   "metadata": {
    "collapsed": true
   },
   "outputs": [],
   "source": []
  }
 ],
 "metadata": {
  "kernelspec": {
   "display_name": "Python 2",
   "language": "python",
   "name": "python2"
  },
  "language_info": {
   "codemirror_mode": {
    "name": "ipython",
    "version": 2
   },
   "file_extension": ".py",
   "mimetype": "text/x-python",
   "name": "python",
   "nbconvert_exporter": "python",
   "pygments_lexer": "ipython2",
   "version": "2.7.12"
  }
 },
 "nbformat": 4,
 "nbformat_minor": 1
}
